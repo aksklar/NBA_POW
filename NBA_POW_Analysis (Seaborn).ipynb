{
 "cells": [
  {
   "cell_type": "code",
   "execution_count": 25,
   "metadata": {
    "collapsed": true
   },
   "outputs": [],
   "source": [
    "import os\n",
    "\n",
    "import numpy as np\n",
    "import pandas as pd\n",
    "import seaborn as sns\n",
    "import matplotlib.pyplot as plt\n",
    "from collections import Counter\n",
    "%matplotlib inline"
   ]
  },
  {
   "cell_type": "markdown",
   "metadata": {},
   "source": [
    "## Data Preparation & Exploration"
   ]
  },
  {
   "cell_type": "code",
   "execution_count": 3,
   "metadata": {},
   "outputs": [
    {
     "data": {
      "text/html": [
       "<div>\n",
       "<style scoped>\n",
       "    .dataframe tbody tr th:only-of-type {\n",
       "        vertical-align: middle;\n",
       "    }\n",
       "\n",
       "    .dataframe tbody tr th {\n",
       "        vertical-align: top;\n",
       "    }\n",
       "\n",
       "    .dataframe thead th {\n",
       "        text-align: right;\n",
       "    }\n",
       "</style>\n",
       "<table border=\"1\" class=\"dataframe\">\n",
       "  <thead>\n",
       "    <tr style=\"text-align: right;\">\n",
       "      <th></th>\n",
       "      <th>Active season</th>\n",
       "      <th>Player</th>\n",
       "      <th>Team</th>\n",
       "      <th>Conference</th>\n",
       "      <th>Date</th>\n",
       "      <th>Position</th>\n",
       "      <th>Height</th>\n",
       "      <th>Weight</th>\n",
       "      <th>Age</th>\n",
       "      <th>Draft Year</th>\n",
       "      <th>Seasons in league</th>\n",
       "      <th>Season</th>\n",
       "      <th>Season short</th>\n",
       "      <th>Real_value</th>\n",
       "    </tr>\n",
       "  </thead>\n",
       "  <tbody>\n",
       "    <tr>\n",
       "      <th>0</th>\n",
       "      <td>0</td>\n",
       "      <td>Micheal Ray Richardson</td>\n",
       "      <td>New Jersey Nets</td>\n",
       "      <td>NaN</td>\n",
       "      <td>Apr 14, 1985</td>\n",
       "      <td>PG</td>\n",
       "      <td>6-5</td>\n",
       "      <td>189</td>\n",
       "      <td>29</td>\n",
       "      <td>1978</td>\n",
       "      <td>6</td>\n",
       "      <td>1984-1985</td>\n",
       "      <td>1985</td>\n",
       "      <td>1.0</td>\n",
       "    </tr>\n",
       "    <tr>\n",
       "      <th>1</th>\n",
       "      <td>0</td>\n",
       "      <td>Derek Smith</td>\n",
       "      <td>Los Angeles Clippers</td>\n",
       "      <td>NaN</td>\n",
       "      <td>Apr 7, 1985</td>\n",
       "      <td>SG</td>\n",
       "      <td>6-6</td>\n",
       "      <td>205</td>\n",
       "      <td>23</td>\n",
       "      <td>1982</td>\n",
       "      <td>2</td>\n",
       "      <td>1984-1985</td>\n",
       "      <td>1985</td>\n",
       "      <td>1.0</td>\n",
       "    </tr>\n",
       "    <tr>\n",
       "      <th>2</th>\n",
       "      <td>0</td>\n",
       "      <td>Calvin Natt</td>\n",
       "      <td>Denver Nuggets</td>\n",
       "      <td>NaN</td>\n",
       "      <td>Apr 1, 1985</td>\n",
       "      <td>F</td>\n",
       "      <td>6-6</td>\n",
       "      <td>220</td>\n",
       "      <td>28</td>\n",
       "      <td>1979</td>\n",
       "      <td>5</td>\n",
       "      <td>1984-1985</td>\n",
       "      <td>1985</td>\n",
       "      <td>1.0</td>\n",
       "    </tr>\n",
       "    <tr>\n",
       "      <th>3</th>\n",
       "      <td>0</td>\n",
       "      <td>Kareem Abdul-Jabbar</td>\n",
       "      <td>Los Angeles Lakers</td>\n",
       "      <td>NaN</td>\n",
       "      <td>Mar 24, 1985</td>\n",
       "      <td>C</td>\n",
       "      <td>7-2</td>\n",
       "      <td>225</td>\n",
       "      <td>37</td>\n",
       "      <td>1969</td>\n",
       "      <td>15</td>\n",
       "      <td>1984-1985</td>\n",
       "      <td>1985</td>\n",
       "      <td>1.0</td>\n",
       "    </tr>\n",
       "    <tr>\n",
       "      <th>4</th>\n",
       "      <td>0</td>\n",
       "      <td>Larry Bird</td>\n",
       "      <td>Boston Celtics</td>\n",
       "      <td>NaN</td>\n",
       "      <td>Mar 17, 1985</td>\n",
       "      <td>SF</td>\n",
       "      <td>6-9</td>\n",
       "      <td>220</td>\n",
       "      <td>28</td>\n",
       "      <td>1978</td>\n",
       "      <td>5</td>\n",
       "      <td>1984-1985</td>\n",
       "      <td>1985</td>\n",
       "      <td>1.0</td>\n",
       "    </tr>\n",
       "  </tbody>\n",
       "</table>\n",
       "</div>"
      ],
      "text/plain": [
       "   Active season                  Player                  Team Conference  \\\n",
       "0              0  Micheal Ray Richardson       New Jersey Nets        NaN   \n",
       "1              0             Derek Smith  Los Angeles Clippers        NaN   \n",
       "2              0             Calvin Natt        Denver Nuggets        NaN   \n",
       "3              0     Kareem Abdul-Jabbar    Los Angeles Lakers        NaN   \n",
       "4              0              Larry Bird        Boston Celtics        NaN   \n",
       "\n",
       "           Date Position Height  Weight  Age  Draft Year  Seasons in league  \\\n",
       "0  Apr 14, 1985       PG    6-5     189   29        1978                  6   \n",
       "1   Apr 7, 1985       SG    6-6     205   23        1982                  2   \n",
       "2   Apr 1, 1985        F    6-6     220   28        1979                  5   \n",
       "3  Mar 24, 1985        C    7-2     225   37        1969                 15   \n",
       "4  Mar 17, 1985       SF    6-9     220   28        1978                  5   \n",
       "\n",
       "      Season  Season short  Real_value  \n",
       "0  1984-1985          1985         1.0  \n",
       "1  1984-1985          1985         1.0  \n",
       "2  1984-1985          1985         1.0  \n",
       "3  1984-1985          1985         1.0  \n",
       "4  1984-1985          1985         1.0  "
      ]
     },
     "execution_count": 3,
     "metadata": {},
     "output_type": "execute_result"
    }
   ],
   "source": [
    "# Read in csv and inspect data\n",
    "\n",
    "nba_df = pd.read_csv('raw_data/NBA_POW_DATA.csv')\n",
    "nba_df.head()"
   ]
  },
  {
   "cell_type": "code",
   "execution_count": 4,
   "metadata": {},
   "outputs": [
    {
     "name": "stdout",
     "output_type": "stream",
     "text": [
      "<class 'pandas.core.frame.DataFrame'>\n",
      "RangeIndex: 1155 entries, 0 to 1154\n",
      "Data columns (total 14 columns):\n",
      "Active season        1155 non-null int64\n",
      "Player               1155 non-null object\n",
      "Team                 1155 non-null object\n",
      "Conference           771 non-null object\n",
      "Date                 1155 non-null object\n",
      "Position             1155 non-null object\n",
      "Height               1155 non-null object\n",
      "Weight               1155 non-null int64\n",
      "Age                  1155 non-null int64\n",
      "Draft Year           1155 non-null int64\n",
      "Seasons in league    1155 non-null int64\n",
      "Season               1155 non-null object\n",
      "Season short         1155 non-null int64\n",
      "Real_value           1155 non-null float64\n",
      "dtypes: float64(1), int64(6), object(7)\n",
      "memory usage: 126.4+ KB\n"
     ]
    }
   ],
   "source": [
    "nba_df.info()"
   ]
  },
  {
   "cell_type": "markdown",
   "metadata": {},
   "source": [
    "## NBA Player of the Week (Avg. Age per Season)"
   ]
  },
  {
   "cell_type": "code",
   "execution_count": 5,
   "metadata": {},
   "outputs": [
    {
     "data": {
      "text/plain": [
       "25    147\n",
       "28    129\n",
       "27    127\n",
       "26    121\n",
       "24    118\n",
       "23    101\n",
       "29     79\n",
       "30     72\n",
       "31     57\n",
       "22     57\n",
       "32     42\n",
       "33     30\n",
       "21     25\n",
       "34     15\n",
       "20     11\n",
       "35      8\n",
       "37      5\n",
       "36      3\n",
       "38      3\n",
       "40      2\n",
       "19      2\n",
       "39      1\n",
       "Name: Age, dtype: int64"
      ]
     },
     "execution_count": 5,
     "metadata": {},
     "output_type": "execute_result"
    }
   ],
   "source": [
    "# Finding out number of values in Age column\n",
    "nba_df['Age'].value_counts()"
   ]
  },
  {
   "cell_type": "code",
   "execution_count": 6,
   "metadata": {},
   "outputs": [
    {
     "data": {
      "text/plain": [
       "array([1985, 1986, 1987, 1988, 1989, 1990, 1991, 1992, 1993, 1994, 1995,\n",
       "       1996, 1997, 1998, 1999, 2000, 2001, 2002, 2003, 2004, 2005, 2006,\n",
       "       2007, 2008, 2009, 2010, 2011, 2012, 2013, 2014, 2015, 2016, 2017,\n",
       "       2018, 2019], dtype=int64)"
      ]
     },
     "execution_count": 6,
     "metadata": {},
     "output_type": "execute_result"
    }
   ],
   "source": [
    "#Finding out how many years in Season column\n",
    "nba_df['Season short'].unique()"
   ]
  },
  {
   "cell_type": "code",
   "execution_count": 7,
   "metadata": {},
   "outputs": [
    {
     "data": {
      "text/html": [
       "<div>\n",
       "<style scoped>\n",
       "    .dataframe tbody tr th:only-of-type {\n",
       "        vertical-align: middle;\n",
       "    }\n",
       "\n",
       "    .dataframe tbody tr th {\n",
       "        vertical-align: top;\n",
       "    }\n",
       "\n",
       "    .dataframe thead th {\n",
       "        text-align: right;\n",
       "    }\n",
       "</style>\n",
       "<table border=\"1\" class=\"dataframe\">\n",
       "  <thead>\n",
       "    <tr style=\"text-align: right;\">\n",
       "      <th></th>\n",
       "      <th>Season short</th>\n",
       "      <th>Age</th>\n",
       "    </tr>\n",
       "  </thead>\n",
       "  <tbody>\n",
       "    <tr>\n",
       "      <th>0</th>\n",
       "      <td>1985</td>\n",
       "      <td>27.000000</td>\n",
       "    </tr>\n",
       "    <tr>\n",
       "      <th>1</th>\n",
       "      <td>1986</td>\n",
       "      <td>26.695652</td>\n",
       "    </tr>\n",
       "    <tr>\n",
       "      <th>2</th>\n",
       "      <td>1987</td>\n",
       "      <td>27.130435</td>\n",
       "    </tr>\n",
       "    <tr>\n",
       "      <th>3</th>\n",
       "      <td>1988</td>\n",
       "      <td>26.173913</td>\n",
       "    </tr>\n",
       "    <tr>\n",
       "      <th>4</th>\n",
       "      <td>1989</td>\n",
       "      <td>26.478261</td>\n",
       "    </tr>\n",
       "  </tbody>\n",
       "</table>\n",
       "</div>"
      ],
      "text/plain": [
       "   Season short        Age\n",
       "0          1985  27.000000\n",
       "1          1986  26.695652\n",
       "2          1987  27.130435\n",
       "3          1988  26.173913\n",
       "4          1989  26.478261"
      ]
     },
     "execution_count": 7,
     "metadata": {},
     "output_type": "execute_result"
    }
   ],
   "source": [
    "#Create new df with season year and avg. age\n",
    "nba_avg_age = nba_df.groupby('Season short')['Age'].mean().to_frame().reset_index()\n",
    "nba_avg_age.head()"
   ]
  },
  {
   "cell_type": "code",
   "execution_count": 8,
   "metadata": {
    "scrolled": true
   },
   "outputs": [
    {
     "data": {
      "image/png": "[encoded data removed]",
      "text/plain": [
       "<matplotlib.figure.Figure at 0x23898562630>"
      ]
     },
     "metadata": {},
     "output_type": "display_data"
    }
   ],
   "source": [
    "plt.figure(figsize = (15, 10))\n",
    "sns.barplot(x = nba_avg_age['Season short'], y = nba_avg_age['Age'])\n",
    "\n",
    "plt.xticks(rotation = 90)\n",
    "plt.xlabel('Season Year', size = 15)\n",
    "plt.yticks(np.arange(15, 40, step = 5))\n",
    "plt.ylim(ymin = 15)\n",
    "plt.ylabel('Avg Age of Player of the Week')\n",
    "plt.title('NBA Player of the Week: Avg. Age per Season', size = 15)\n",
    "plt.show()"
   ]
  },
  {
   "cell_type": "markdown",
   "metadata": {
    "collapsed": true
   },
   "source": [
    "## NBA Player of the Week (Top Ten)"
   ]
  },
  {
   "cell_type": "code",
   "execution_count": 9,
   "metadata": {},
   "outputs": [
    {
     "data": {
      "text/html": [
       "<div>\n",
       "<style scoped>\n",
       "    .dataframe tbody tr th:only-of-type {\n",
       "        vertical-align: middle;\n",
       "    }\n",
       "\n",
       "    .dataframe tbody tr th {\n",
       "        vertical-align: top;\n",
       "    }\n",
       "\n",
       "    .dataframe thead th {\n",
       "        text-align: right;\n",
       "    }\n",
       "</style>\n",
       "<table border=\"1\" class=\"dataframe\">\n",
       "  <thead>\n",
       "    <tr style=\"text-align: right;\">\n",
       "      <th></th>\n",
       "      <th>Player</th>\n",
       "      <th>Real_value</th>\n",
       "      <th>Rounded</th>\n",
       "    </tr>\n",
       "  </thead>\n",
       "  <tbody>\n",
       "    <tr>\n",
       "      <th>0</th>\n",
       "      <td>LeBron James</td>\n",
       "      <td>30.5</td>\n",
       "      <td>30</td>\n",
       "    </tr>\n",
       "    <tr>\n",
       "      <th>1</th>\n",
       "      <td>Michael Jordan</td>\n",
       "      <td>24.0</td>\n",
       "      <td>24</td>\n",
       "    </tr>\n",
       "    <tr>\n",
       "      <th>2</th>\n",
       "      <td>Karl Malone</td>\n",
       "      <td>22.5</td>\n",
       "      <td>22</td>\n",
       "    </tr>\n",
       "    <tr>\n",
       "      <th>3</th>\n",
       "      <td>Kobe Bryant</td>\n",
       "      <td>17.5</td>\n",
       "      <td>17</td>\n",
       "    </tr>\n",
       "    <tr>\n",
       "      <th>4</th>\n",
       "      <td>Shaquille O'Neal</td>\n",
       "      <td>16.0</td>\n",
       "      <td>16</td>\n",
       "    </tr>\n",
       "    <tr>\n",
       "      <th>5</th>\n",
       "      <td>David Robinson</td>\n",
       "      <td>15.0</td>\n",
       "      <td>15</td>\n",
       "    </tr>\n",
       "    <tr>\n",
       "      <th>6</th>\n",
       "      <td>Tim Duncan</td>\n",
       "      <td>14.0</td>\n",
       "      <td>14</td>\n",
       "    </tr>\n",
       "    <tr>\n",
       "      <th>7</th>\n",
       "      <td>Allen Iverson</td>\n",
       "      <td>13.5</td>\n",
       "      <td>13</td>\n",
       "    </tr>\n",
       "    <tr>\n",
       "      <th>8</th>\n",
       "      <td>Kevin Durant</td>\n",
       "      <td>13.0</td>\n",
       "      <td>13</td>\n",
       "    </tr>\n",
       "    <tr>\n",
       "      <th>9</th>\n",
       "      <td>Kevin Garnett</td>\n",
       "      <td>12.5</td>\n",
       "      <td>12</td>\n",
       "    </tr>\n",
       "  </tbody>\n",
       "</table>\n",
       "</div>"
      ],
      "text/plain": [
       "             Player  Real_value  Rounded\n",
       "0      LeBron James        30.5       30\n",
       "1    Michael Jordan        24.0       24\n",
       "2       Karl Malone        22.5       22\n",
       "3       Kobe Bryant        17.5       17\n",
       "4  Shaquille O'Neal        16.0       16\n",
       "5    David Robinson        15.0       15\n",
       "6        Tim Duncan        14.0       14\n",
       "7     Allen Iverson        13.5       13\n",
       "8      Kevin Durant        13.0       13\n",
       "9     Kevin Garnett        12.5       12"
      ]
     },
     "execution_count": 9,
     "metadata": {},
     "output_type": "execute_result"
    }
   ],
   "source": [
    "nba_top_ten = nba_df.groupby('Player').agg({'Real_value':'sum'})\\\n",
    "                    .sort_values('Real_value',ascending = False).head(10).reset_index()\n",
    "\n",
    "nba_top_ten['Rounded'] = nba_top_ten['Real_value'].astype(int)\n",
    "\n",
    "nba_top_ten"
   ]
  },
  {
   "cell_type": "code",
   "execution_count": 10,
   "metadata": {
    "scrolled": true
   },
   "outputs": [
    {
     "data": {
      "image/png": "[encoded data removed]",
      "text/plain": [
       "<matplotlib.figure.Figure at 0x238988df588>"
      ]
     },
     "metadata": {},
     "output_type": "display_data"
    }
   ],
   "source": [
    "plt.figure(figsize = (15,10))\n",
    "sns.barplot(x = nba_top_ten['Real_value'], y = nba_top_ten['Player'])\n",
    "plt.xlabel('Player of the Week (# of times)', size = 15)\n",
    "plt.ylabel('Player', size = 15)\n",
    "plt.title('NBA Player of the Week: Top Ten', size = 15)\n",
    "plt.show()"
   ]
  },
  {
   "cell_type": "code",
   "execution_count": 12,
   "metadata": {},
   "outputs": [
    {
     "data": {
      "text/html": [
       "<div>\n",
       "<style scoped>\n",
       "    .dataframe tbody tr th:only-of-type {\n",
       "        vertical-align: middle;\n",
       "    }\n",
       "\n",
       "    .dataframe tbody tr th {\n",
       "        vertical-align: top;\n",
       "    }\n",
       "\n",
       "    .dataframe thead th {\n",
       "        text-align: right;\n",
       "    }\n",
       "</style>\n",
       "<table border=\"1\" class=\"dataframe\">\n",
       "  <thead>\n",
       "    <tr style=\"text-align: right;\">\n",
       "      <th></th>\n",
       "      <th>Player</th>\n",
       "      <th>Position</th>\n",
       "      <th>Real_value</th>\n",
       "    </tr>\n",
       "  </thead>\n",
       "  <tbody>\n",
       "    <tr>\n",
       "      <th>0</th>\n",
       "      <td>Aaron McKie</td>\n",
       "      <td>G</td>\n",
       "      <td>1.0</td>\n",
       "    </tr>\n",
       "    <tr>\n",
       "      <th>1</th>\n",
       "      <td>Adrian Dantley</td>\n",
       "      <td>SF</td>\n",
       "      <td>1.0</td>\n",
       "    </tr>\n",
       "    <tr>\n",
       "      <th>2</th>\n",
       "      <td>Al Harrington</td>\n",
       "      <td>F</td>\n",
       "      <td>0.5</td>\n",
       "    </tr>\n",
       "    <tr>\n",
       "      <th>3</th>\n",
       "      <td>Al Horford</td>\n",
       "      <td>FC</td>\n",
       "      <td>1.5</td>\n",
       "    </tr>\n",
       "    <tr>\n",
       "      <th>4</th>\n",
       "      <td>Al Jefferson</td>\n",
       "      <td>FC</td>\n",
       "      <td>3.5</td>\n",
       "    </tr>\n",
       "  </tbody>\n",
       "</table>\n",
       "</div>"
      ],
      "text/plain": [
       "           Player Position  Real_value\n",
       "0     Aaron McKie        G         1.0\n",
       "1  Adrian Dantley       SF         1.0\n",
       "2   Al Harrington        F         0.5\n",
       "3      Al Horford       FC         1.5\n",
       "4    Al Jefferson       FC         3.5"
      ]
     },
     "execution_count": 12,
     "metadata": {},
     "output_type": "execute_result"
    }
   ],
   "source": [
    "overall_pow = nba_df.groupby(['Player', 'Position'])['Real_value'].sum().reset_index()\n",
    "overall_pow.head()"
   ]
  },
  {
   "cell_type": "code",
   "execution_count": 30,
   "metadata": {},
   "outputs": [
    {
     "name": "stdout",
     "output_type": "stream",
     "text": [
      "<class 'pandas.core.frame.DataFrame'>\n",
      "RangeIndex: 276 entries, 0 to 275\n",
      "Data columns (total 3 columns):\n",
      "Player        276 non-null object\n",
      "Position      276 non-null object\n",
      "Real_value    276 non-null float64\n",
      "dtypes: float64(1), object(2)\n",
      "memory usage: 6.5+ KB\n"
     ]
    }
   ],
   "source": [
    "overall_pow.info()"
   ]
  },
  {
   "cell_type": "code",
   "execution_count": 32,
   "metadata": {},
   "outputs": [
    {
     "data": {
      "text/plain": [
       "<matplotlib.axes._subplots.AxesSubplot at 0x23899390f28>"
      ]
     },
     "execution_count": 32,
     "metadata": {},
     "output_type": "execute_result"
    },
    {
     "data": {
      "image/png": "[encoded data removed]",
      "text/plain": [
       "<matplotlib.figure.Figure at 0x23898ddc358>"
      ]
     },
     "metadata": {},
     "output_type": "display_data"
    }
   ],
   "source": [
    "sns.countplot(overall_pow['Position'])"
   ]
  },
  {
   "cell_type": "code",
   "execution_count": null,
   "metadata": {
    "collapsed": true
   },
   "outputs": [],
   "source": []
  }
 ],
 "metadata": {
  "kernelspec": {
   "display_name": "Python [conda env:PythonData2]",
   "language": "python",
   "name": "conda-env-PythonData2-py"
  },
  "language_info": {
   "codemirror_mode": {
    "name": "ipython",
    "version": 3
   },
   "file_extension": ".py",
   "mimetype": "text/x-python",
   "name": "python",
   "nbconvert_exporter": "python",
   "pygments_lexer": "ipython3",
   "version": "3.6.3"
  }
 },
 "nbformat": 4,
 "nbformat_minor": 2
}
