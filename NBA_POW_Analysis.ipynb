{
 "cells": [
  {
   "cell_type": "code",
   "execution_count": 24,
   "metadata": {
    "scrolled": true
   },
   "outputs": [],
   "source": [
    "import os\n",
    "\n",
    "import pandas as pd\n",
    "import numpy as np\n",
    "\n",
    "from bokeh.transform import jitter, factor_cmap\n",
    "from bokeh.plotting import figure, show, output_notebook\n",
    "from bokeh.palettes import Category20\n",
    "from bokeh.models import ColumnDataSource\n",
    "from bokeh.models import HoverTool\n",
    "\n",
    "import chartify\n"
   ]
  },
  {
   "cell_type": "markdown",
   "metadata": {},
   "source": [
    "## Data Preparation & Exploration"
   ]
  },
  {
   "cell_type": "code",
   "execution_count": 25,
   "metadata": {},
   "outputs": [
    {
     "data": {
      "text/html": [
       "<div>\n",
       "<style scoped>\n",
       "    .dataframe tbody tr th:only-of-type {\n",
       "        vertical-align: middle;\n",
       "    }\n",
       "\n",
       "    .dataframe tbody tr th {\n",
       "        vertical-align: top;\n",
       "    }\n",
       "\n",
       "    .dataframe thead th {\n",
       "        text-align: right;\n",
       "    }\n",
       "</style>\n",
       "<table border=\"1\" class=\"dataframe\">\n",
       "  <thead>\n",
       "    <tr style=\"text-align: right;\">\n",
       "      <th></th>\n",
       "      <th>Active season</th>\n",
       "      <th>Player</th>\n",
       "      <th>Team</th>\n",
       "      <th>Conference</th>\n",
       "      <th>Date</th>\n",
       "      <th>Position</th>\n",
       "      <th>Height</th>\n",
       "      <th>Weight</th>\n",
       "      <th>Age</th>\n",
       "      <th>Draft Year</th>\n",
       "      <th>Seasons in league</th>\n",
       "      <th>Season</th>\n",
       "      <th>Season short</th>\n",
       "      <th>Real_value</th>\n",
       "    </tr>\n",
       "  </thead>\n",
       "  <tbody>\n",
       "    <tr>\n",
       "      <th>0</th>\n",
       "      <td>0</td>\n",
       "      <td>Micheal Ray Richardson</td>\n",
       "      <td>New Jersey Nets</td>\n",
       "      <td>NaN</td>\n",
       "      <td>Apr 14, 1985</td>\n",
       "      <td>PG</td>\n",
       "      <td>6-5</td>\n",
       "      <td>189</td>\n",
       "      <td>29</td>\n",
       "      <td>1978</td>\n",
       "      <td>6</td>\n",
       "      <td>1984-1985</td>\n",
       "      <td>1985</td>\n",
       "      <td>1.0</td>\n",
       "    </tr>\n",
       "    <tr>\n",
       "      <th>1</th>\n",
       "      <td>0</td>\n",
       "      <td>Derek Smith</td>\n",
       "      <td>Los Angeles Clippers</td>\n",
       "      <td>NaN</td>\n",
       "      <td>Apr 7, 1985</td>\n",
       "      <td>SG</td>\n",
       "      <td>6-6</td>\n",
       "      <td>205</td>\n",
       "      <td>23</td>\n",
       "      <td>1982</td>\n",
       "      <td>2</td>\n",
       "      <td>1984-1985</td>\n",
       "      <td>1985</td>\n",
       "      <td>1.0</td>\n",
       "    </tr>\n",
       "    <tr>\n",
       "      <th>2</th>\n",
       "      <td>0</td>\n",
       "      <td>Calvin Natt</td>\n",
       "      <td>Denver Nuggets</td>\n",
       "      <td>NaN</td>\n",
       "      <td>Apr 1, 1985</td>\n",
       "      <td>F</td>\n",
       "      <td>6-6</td>\n",
       "      <td>220</td>\n",
       "      <td>28</td>\n",
       "      <td>1979</td>\n",
       "      <td>5</td>\n",
       "      <td>1984-1985</td>\n",
       "      <td>1985</td>\n",
       "      <td>1.0</td>\n",
       "    </tr>\n",
       "    <tr>\n",
       "      <th>3</th>\n",
       "      <td>0</td>\n",
       "      <td>Kareem Abdul-Jabbar</td>\n",
       "      <td>Los Angeles Lakers</td>\n",
       "      <td>NaN</td>\n",
       "      <td>Mar 24, 1985</td>\n",
       "      <td>C</td>\n",
       "      <td>7-2</td>\n",
       "      <td>225</td>\n",
       "      <td>37</td>\n",
       "      <td>1969</td>\n",
       "      <td>15</td>\n",
       "      <td>1984-1985</td>\n",
       "      <td>1985</td>\n",
       "      <td>1.0</td>\n",
       "    </tr>\n",
       "    <tr>\n",
       "      <th>4</th>\n",
       "      <td>0</td>\n",
       "      <td>Larry Bird</td>\n",
       "      <td>Boston Celtics</td>\n",
       "      <td>NaN</td>\n",
       "      <td>Mar 17, 1985</td>\n",
       "      <td>SF</td>\n",
       "      <td>6-9</td>\n",
       "      <td>220</td>\n",
       "      <td>28</td>\n",
       "      <td>1978</td>\n",
       "      <td>5</td>\n",
       "      <td>1984-1985</td>\n",
       "      <td>1985</td>\n",
       "      <td>1.0</td>\n",
       "    </tr>\n",
       "  </tbody>\n",
       "</table>\n",
       "</div>"
      ],
      "text/plain": [
       "   Active season                  Player                  Team Conference  \\\n",
       "0              0  Micheal Ray Richardson       New Jersey Nets        NaN   \n",
       "1              0             Derek Smith  Los Angeles Clippers        NaN   \n",
       "2              0             Calvin Natt        Denver Nuggets        NaN   \n",
       "3              0     Kareem Abdul-Jabbar    Los Angeles Lakers        NaN   \n",
       "4              0              Larry Bird        Boston Celtics        NaN   \n",
       "\n",
       "           Date Position Height  Weight  Age  Draft Year  Seasons in league  \\\n",
       "0  Apr 14, 1985       PG    6-5     189   29        1978                  6   \n",
       "1   Apr 7, 1985       SG    6-6     205   23        1982                  2   \n",
       "2   Apr 1, 1985        F    6-6     220   28        1979                  5   \n",
       "3  Mar 24, 1985        C    7-2     225   37        1969                 15   \n",
       "4  Mar 17, 1985       SF    6-9     220   28        1978                  5   \n",
       "\n",
       "      Season  Season short  Real_value  \n",
       "0  1984-1985          1985         1.0  \n",
       "1  1984-1985          1985         1.0  \n",
       "2  1984-1985          1985         1.0  \n",
       "3  1984-1985          1985         1.0  \n",
       "4  1984-1985          1985         1.0  "
      ]
     },
     "execution_count": 25,
     "metadata": {},
     "output_type": "execute_result"
    }
   ],
   "source": [
    "# Read in and inspect csv\n",
    "nba_df = pd.read_csv('raw_data/NBA_POW_DATA.csv')\n",
    "nba_df.head()"
   ]
  },
  {
   "cell_type": "code",
   "execution_count": 26,
   "metadata": {},
   "outputs": [
    {
     "name": "stdout",
     "output_type": "stream",
     "text": [
      "<class 'pandas.core.frame.DataFrame'>\n",
      "RangeIndex: 1155 entries, 0 to 1154\n",
      "Data columns (total 14 columns):\n",
      "Active season        1155 non-null int64\n",
      "Player               1155 non-null object\n",
      "Team                 1155 non-null object\n",
      "Conference           771 non-null object\n",
      "Date                 1155 non-null object\n",
      "Position             1155 non-null object\n",
      "Height               1155 non-null object\n",
      "Weight               1155 non-null int64\n",
      "Age                  1155 non-null int64\n",
      "Draft Year           1155 non-null int64\n",
      "Seasons in league    1155 non-null int64\n",
      "Season               1155 non-null object\n",
      "Season short         1155 non-null int64\n",
      "Real_value           1155 non-null float64\n",
      "dtypes: float64(1), int64(6), object(7)\n",
      "memory usage: 126.4+ KB\n"
     ]
    }
   ],
   "source": [
    "nba_df.info()"
   ]
  },
  {
   "cell_type": "markdown",
   "metadata": {},
   "source": [
    "## NBA Player of the Week (Average Age Per Season)"
   ]
  },
  {
   "cell_type": "code",
   "execution_count": 27,
   "metadata": {},
   "outputs": [
    {
     "data": {
      "text/html": [
       "<div>\n",
       "<style scoped>\n",
       "    .dataframe tbody tr th:only-of-type {\n",
       "        vertical-align: middle;\n",
       "    }\n",
       "\n",
       "    .dataframe tbody tr th {\n",
       "        vertical-align: top;\n",
       "    }\n",
       "\n",
       "    .dataframe thead th {\n",
       "        text-align: right;\n",
       "    }\n",
       "</style>\n",
       "<table border=\"1\" class=\"dataframe\">\n",
       "  <thead>\n",
       "    <tr style=\"text-align: right;\">\n",
       "      <th></th>\n",
       "      <th>Season short</th>\n",
       "      <th>Age</th>\n",
       "    </tr>\n",
       "  </thead>\n",
       "  <tbody>\n",
       "    <tr>\n",
       "      <th>0</th>\n",
       "      <td>1985</td>\n",
       "      <td>27.000000</td>\n",
       "    </tr>\n",
       "    <tr>\n",
       "      <th>1</th>\n",
       "      <td>1986</td>\n",
       "      <td>26.695652</td>\n",
       "    </tr>\n",
       "    <tr>\n",
       "      <th>2</th>\n",
       "      <td>1987</td>\n",
       "      <td>27.130435</td>\n",
       "    </tr>\n",
       "    <tr>\n",
       "      <th>3</th>\n",
       "      <td>1988</td>\n",
       "      <td>26.173913</td>\n",
       "    </tr>\n",
       "    <tr>\n",
       "      <th>4</th>\n",
       "      <td>1989</td>\n",
       "      <td>26.478261</td>\n",
       "    </tr>\n",
       "  </tbody>\n",
       "</table>\n",
       "</div>"
      ],
      "text/plain": [
       "   Season short        Age\n",
       "0          1985  27.000000\n",
       "1          1986  26.695652\n",
       "2          1987  27.130435\n",
       "3          1988  26.173913\n",
       "4          1989  26.478261"
      ]
     },
     "execution_count": 27,
     "metadata": {},
     "output_type": "execute_result"
    }
   ],
   "source": [
    "nba_avg_age = nba_df.groupby('Season short')['Age'].mean().to_frame().reset_index()\n",
    "nba_avg_age.head()"
   ]
  },
  {
   "cell_type": "code",
   "execution_count": 28,
   "metadata": {},
   "outputs": [
    {
     "data": {
      "text/html": [
       "\n",
       "\n",
       "\n",
       "\n",
       "\n",
       "\n",
       "  <div class=\"bk-root\" id=\"b2efe014-15d2-46a5-ac66-34332cd4faaf\"></div>\n"
      ]
     },
     "metadata": {},
     "output_type": "display_data"
    },
    {
     "data": {
      "application/javascript": [
       "(function(root) {\n",
       "  function embed_document(root) {\n",
       "    \n",
       "  var docs_json = {\"f5deb69f-06d2-4006-8111-bacd53289dfa\":{\"roots\":{\"references\":[{\"attributes\":{\"above\":[{\"id\":\"3918\",\"type\":\"Title\"}],\"background_fill_color\":{\"value\":\"white\"},\"below\":[{\"id\":\"3901\",\"type\":\"LinearAxis\"},{\"id\":\"3917\",\"type\":\"Label\"}],\"border_fill_color\":{\"value\":\"white\"},\"left\":[{\"id\":\"3906\",\"type\":\"LinearAxis\"}],\"min_border_bottom\":60,\"min_border_left\":60,\"min_border_right\":60,\"min_border_top\":40,\"outline_line_color\":{\"value\":\"white\"},\"plot_height\":540,\"plot_width\":750,\"renderers\":[{\"id\":\"3901\",\"type\":\"LinearAxis\"},{\"id\":\"3905\",\"type\":\"Grid\"},{\"id\":\"3906\",\"type\":\"LinearAxis\"},{\"id\":\"3910\",\"type\":\"Grid\"},{\"id\":\"3917\",\"type\":\"Label\"},{\"id\":\"3918\",\"type\":\"Title\"},{\"id\":\"3929\",\"type\":\"GlyphRenderer\"}],\"title\":{\"id\":\"3914\",\"type\":\"Title\"},\"toolbar\":{\"id\":\"3912\",\"type\":\"Toolbar\"},\"x_range\":{\"id\":\"3893\",\"type\":\"DataRange1d\"},\"x_scale\":{\"id\":\"3897\",\"type\":\"LinearScale\"},\"y_range\":{\"id\":\"3895\",\"type\":\"DataRange1d\"},\"y_scale\":{\"id\":\"3899\",\"type\":\"LinearScale\"}},\"id\":\"3892\",\"subtype\":\"Figure\",\"type\":\"Plot\"},{\"attributes\":{\"callback\":null},\"id\":\"3893\",\"type\":\"DataRange1d\"},{\"attributes\":{\"plot\":null,\"text\":\"\",\"text_color\":{\"value\":\"#333333\"},\"text_font_size\":{\"value\":\"18pt\"}},\"id\":\"3914\",\"type\":\"Title\"},{\"attributes\":{\"plot\":{\"id\":\"3892\",\"subtype\":\"Figure\",\"type\":\"Plot\"},\"text\":\"NBA Player of the Week: Avg. Age Per Season\",\"text_color\":{\"value\":\"#666666\"},\"text_font_size\":{\"value\":\"12pt\"}},\"id\":\"3918\",\"type\":\"Title\"},{\"attributes\":{\"callback\":null,\"end\":40,\"start\":15},\"id\":\"3895\",\"type\":\"DataRange1d\"},{\"attributes\":{\"line_alpha\":0.1,\"line_cap\":\"round\",\"line_color\":\"#1f77b4\",\"line_join\":\"round\",\"line_width\":4,\"x\":{\"field\":\"Season short\"},\"y\":{\"field\":\"Age\"}},\"id\":\"3928\",\"type\":\"Line\"},{\"attributes\":{},\"id\":\"4078\",\"type\":\"UnionRenderers\"},{\"attributes\":{},\"id\":\"3897\",\"type\":\"LinearScale\"},{\"attributes\":{},\"id\":\"3899\",\"type\":\"LinearScale\"},{\"attributes\":{\"axis_label_text_color\":{\"value\":\"#666666\"},\"axis_label_text_font_size\":{\"value\":\"11pt\"},\"axis_label_text_font_style\":\"bold\",\"axis_line_color\":{\"value\":\"#C0C0C0\"},\"formatter\":{\"id\":\"3931\",\"type\":\"NumeralTickFormatter\"},\"major_label_text_color\":{\"value\":\"#898989\"},\"major_label_text_font_size\":{\"value\":\"10pt\"},\"major_tick_in\":0,\"major_tick_line_color\":{\"value\":\"#C0C0C0\"},\"major_tick_out\":4,\"minor_tick_line_color\":{\"value\":\"#C0C0C0\"},\"minor_tick_out\":1,\"plot\":{\"id\":\"3892\",\"subtype\":\"Figure\",\"type\":\"Plot\"},\"ticker\":{\"id\":\"3902\",\"type\":\"BasicTicker\"}},\"id\":\"3901\",\"type\":\"LinearAxis\"},{\"attributes\":{\"line_cap\":\"round\",\"line_color\":\"#1f77b4\",\"line_join\":\"round\",\"line_width\":4,\"x\":{\"field\":\"Season short\"},\"y\":{\"field\":\"Age\"}},\"id\":\"3927\",\"type\":\"Line\"},{\"attributes\":{},\"id\":\"3902\",\"type\":\"BasicTicker\"},{\"attributes\":{\"grid_line_color\":{\"value\":null},\"plot\":{\"id\":\"3892\",\"subtype\":\"Figure\",\"type\":\"Plot\"},\"ticker\":{\"id\":\"3902\",\"type\":\"BasicTicker\"}},\"id\":\"3905\",\"type\":\"Grid\"},{\"attributes\":{\"data_source\":{\"id\":\"3925\",\"type\":\"ColumnDataSource\"},\"glyph\":{\"id\":\"3927\",\"type\":\"Line\"},\"hover_glyph\":null,\"muted_glyph\":null,\"nonselection_glyph\":{\"id\":\"3928\",\"type\":\"Line\"},\"selection_glyph\":null,\"view\":{\"id\":\"3930\",\"type\":\"CDSView\"}},\"id\":\"3929\",\"type\":\"GlyphRenderer\"},{\"attributes\":{\"format\":\"0,0.[00]\"},\"id\":\"3923\",\"type\":\"NumeralTickFormatter\"},{\"attributes\":{\"axis_label_text_color\":{\"value\":\"#666666\"},\"axis_label_text_font_size\":{\"value\":\"11pt\"},\"axis_label_text_font_style\":\"bold\",\"axis_line_color\":{\"value\":\"#C0C0C0\"},\"formatter\":{\"id\":\"3923\",\"type\":\"NumeralTickFormatter\"},\"major_label_text_color\":{\"value\":\"#898989\"},\"major_label_text_font_size\":{\"value\":\"10pt\"},\"major_tick_in\":0,\"major_tick_line_color\":{\"value\":\"#C0C0C0\"},\"major_tick_out\":4,\"minor_tick_line_color\":{\"value\":\"#C0C0C0\"},\"minor_tick_out\":1,\"plot\":{\"id\":\"3892\",\"subtype\":\"Figure\",\"type\":\"Plot\"},\"ticker\":{\"id\":\"3907\",\"type\":\"BasicTicker\"}},\"id\":\"3906\",\"type\":\"LinearAxis\"},{\"attributes\":{\"source\":{\"id\":\"3925\",\"type\":\"ColumnDataSource\"}},\"id\":\"3930\",\"type\":\"CDSView\"},{\"attributes\":{},\"id\":\"3907\",\"type\":\"BasicTicker\"},{\"attributes\":{\"dimension\":1,\"grid_line_color\":{\"value\":\"lightgrey\"},\"plot\":{\"id\":\"3892\",\"subtype\":\"Figure\",\"type\":\"Plot\"},\"ticker\":{\"id\":\"3907\",\"type\":\"BasicTicker\"}},\"id\":\"3910\",\"type\":\"Grid\"},{\"attributes\":{\"active_drag\":null,\"active_inspect\":\"auto\",\"active_multi\":null,\"active_scroll\":\"auto\",\"active_tap\":\"auto\",\"logo\":null,\"tools\":[{\"id\":\"3911\",\"type\":\"SaveTool\"}]},\"id\":\"3912\",\"type\":\"Toolbar\"},{\"attributes\":{\"format\":\"0\"},\"id\":\"3931\",\"type\":\"NumeralTickFormatter\"},{\"attributes\":{},\"id\":\"3911\",\"type\":\"SaveTool\"},{\"attributes\":{\"callback\":null,\"data\":{\"Age\":{\"__ndarray__\":\"AAAAAAAAO0ALWchCFrI6QLKQhSxkITtAQxaykIUsOkA4velNb3o6QBaykIUsZDpA05ve9KY3O0BvetOb3vQ6QJGFLGQhCztAhixkIQtZO0DIQhaykIU7QKuqqqqqKjxAq6qqqqoqPUD1pje96U09QGIndmIndjpA9aY3velNOkCrqqqqqmo6QKOLLrroIjpAcgUxuYKYOkCc3vSmNz06QE5vetOb3jpAb3rTm950OUCRhSxkIQs6QPWmN73pzTpA3/SmN73pOUCc3vSmN706QCELWchCljpAAAAAAADIOkCGLGQhC9k6QGQhC1nIQjpAXXTRRRfdOkCjiy666CI7QKOLLrroIjtALWQhC1lIO0AzMzMzM7M6QA==\",\"dtype\":\"float64\",\"shape\":[35]},\"Season short\":[1985,1986,1987,1988,1989,1990,1991,1992,1993,1994,1995,1996,1997,1998,1999,2000,2001,2002,2003,2004,2005,2006,2007,2008,2009,2010,2011,2012,2013,2014,2015,2016,2017,2018,2019],\"index\":[0,1,2,3,4,5,6,7,8,9,10,11,12,13,14,15,16,17,18,19,20,21,22,23,24,25,26,27,28,29,30,31,32,33,34]},\"name\":\"Series:\",\"selected\":{\"id\":\"4079\",\"type\":\"Selection\"},\"selection_policy\":{\"id\":\"4078\",\"type\":\"UnionRenderers\"}},\"id\":\"3925\",\"type\":\"ColumnDataSource\"},{\"attributes\":{\"level\":\"overlay\",\"name\":\"subtitle\",\"plot\":{\"id\":\"3892\",\"subtype\":\"Figure\",\"type\":\"Plot\"},\"text\":\"\",\"text_align\":\"right\",\"text_color\":{\"value\":\"#898989\"},\"text_font_size\":{\"value\":\"10px\"},\"x\":864.0,\"x_units\":\"screen\",\"y\":0,\"y_units\":\"screen\"},\"id\":\"3917\",\"type\":\"Label\"},{\"attributes\":{},\"id\":\"4079\",\"type\":\"Selection\"}],\"root_ids\":[\"3892\"]},\"title\":\"Bokeh Application\",\"version\":\"1.0.1\"}};\n",
       "  var render_items = [{\"docid\":\"f5deb69f-06d2-4006-8111-bacd53289dfa\",\"roots\":{\"3892\":\"b2efe014-15d2-46a5-ac66-34332cd4faaf\"}}];\n",
       "  root.Bokeh.embed.embed_items_notebook(docs_json, render_items);\n",
       "\n",
       "  }\n",
       "  if (root.Bokeh !== undefined) {\n",
       "    embed_document(root);\n",
       "  } else {\n",
       "    var attempts = 0;\n",
       "    var timer = setInterval(function(root) {\n",
       "      if (root.Bokeh !== undefined) {\n",
       "        embed_document(root);\n",
       "        clearInterval(timer);\n",
       "      }\n",
       "      attempts++;\n",
       "      if (attempts > 100) {\n",
       "        console.log(\"Bokeh: ERROR: Unable to run BokehJS code because BokehJS library is missing\");\n",
       "        clearInterval(timer);\n",
       "      }\n",
       "    }, 10, root)\n",
       "  }\n",
       "})(window);"
      ],
      "application/vnd.bokehjs_exec.v0+json": ""
     },
     "metadata": {
      "application/vnd.bokehjs_exec.v0+json": {
       "id": "3892"
      }
     },
     "output_type": "display_data"
    }
   ],
   "source": [
    "ch = chartify.Chart(blank_labels = True, x_axis_type = 'linear', \n",
    "                   y_axis_type = 'linear', layout = 'slide_100%')\n",
    "\n",
    "ch.plot.line(nba_avg_age, x_column = 'Season short', y_column = 'Age')\n",
    "\n",
    "ch.figure.plot_width = 750\n",
    "\n",
    "ch.set_subtitle(\"NBA Player of the Week: Avg. Age Per Season\")\n",
    "ch.axes.set_xaxis_tick_format('0')\n",
    "ch.axes.set_xaxis_label = 'Season Year'\n",
    "ch.axes.set_yaxis_range(start = 15, end = 40)\n",
    "ch.axes.set_yaxis_labe1 = 'Avg. Age'\n",
    "ch.figure.ygrid.grid_line_color = 'lightgrey'\n",
    "\n",
    "ch.show()"
   ]
  },
  {
   "cell_type": "markdown",
   "metadata": {},
   "source": [
    "## NBA Player of The Week (Top Ten)"
   ]
  },
  {
   "cell_type": "code",
   "execution_count": 29,
   "metadata": {},
   "outputs": [
    {
     "data": {
      "text/html": [
       "<div>\n",
       "<style scoped>\n",
       "    .dataframe tbody tr th:only-of-type {\n",
       "        vertical-align: middle;\n",
       "    }\n",
       "\n",
       "    .dataframe tbody tr th {\n",
       "        vertical-align: top;\n",
       "    }\n",
       "\n",
       "    .dataframe thead th {\n",
       "        text-align: right;\n",
       "    }\n",
       "</style>\n",
       "<table border=\"1\" class=\"dataframe\">\n",
       "  <thead>\n",
       "    <tr style=\"text-align: right;\">\n",
       "      <th></th>\n",
       "      <th>Player</th>\n",
       "      <th>Real_value</th>\n",
       "      <th>Rounded</th>\n",
       "    </tr>\n",
       "  </thead>\n",
       "  <tbody>\n",
       "    <tr>\n",
       "      <th>0</th>\n",
       "      <td>LeBron James</td>\n",
       "      <td>30.5</td>\n",
       "      <td>30</td>\n",
       "    </tr>\n",
       "    <tr>\n",
       "      <th>1</th>\n",
       "      <td>Michael Jordan</td>\n",
       "      <td>24.0</td>\n",
       "      <td>24</td>\n",
       "    </tr>\n",
       "    <tr>\n",
       "      <th>2</th>\n",
       "      <td>Karl Malone</td>\n",
       "      <td>22.5</td>\n",
       "      <td>22</td>\n",
       "    </tr>\n",
       "    <tr>\n",
       "      <th>3</th>\n",
       "      <td>Kobe Bryant</td>\n",
       "      <td>17.5</td>\n",
       "      <td>17</td>\n",
       "    </tr>\n",
       "    <tr>\n",
       "      <th>4</th>\n",
       "      <td>Shaquille O'Neal</td>\n",
       "      <td>16.0</td>\n",
       "      <td>16</td>\n",
       "    </tr>\n",
       "    <tr>\n",
       "      <th>5</th>\n",
       "      <td>David Robinson</td>\n",
       "      <td>15.0</td>\n",
       "      <td>15</td>\n",
       "    </tr>\n",
       "    <tr>\n",
       "      <th>6</th>\n",
       "      <td>Tim Duncan</td>\n",
       "      <td>14.0</td>\n",
       "      <td>14</td>\n",
       "    </tr>\n",
       "    <tr>\n",
       "      <th>7</th>\n",
       "      <td>Allen Iverson</td>\n",
       "      <td>13.5</td>\n",
       "      <td>13</td>\n",
       "    </tr>\n",
       "    <tr>\n",
       "      <th>8</th>\n",
       "      <td>Kevin Durant</td>\n",
       "      <td>13.0</td>\n",
       "      <td>13</td>\n",
       "    </tr>\n",
       "    <tr>\n",
       "      <th>9</th>\n",
       "      <td>Kevin Garnett</td>\n",
       "      <td>12.5</td>\n",
       "      <td>12</td>\n",
       "    </tr>\n",
       "  </tbody>\n",
       "</table>\n",
       "</div>"
      ],
      "text/plain": [
       "             Player  Real_value  Rounded\n",
       "0      LeBron James        30.5       30\n",
       "1    Michael Jordan        24.0       24\n",
       "2       Karl Malone        22.5       22\n",
       "3       Kobe Bryant        17.5       17\n",
       "4  Shaquille O'Neal        16.0       16\n",
       "5    David Robinson        15.0       15\n",
       "6        Tim Duncan        14.0       14\n",
       "7     Allen Iverson        13.5       13\n",
       "8      Kevin Durant        13.0       13\n",
       "9     Kevin Garnett        12.5       12"
      ]
     },
     "execution_count": 29,
     "metadata": {},
     "output_type": "execute_result"
    }
   ],
   "source": [
    "nba_top_ten = nba_df.groupby('Player').agg({'Real_value':'sum'})\\\n",
    "                    .sort_values('Real_value',ascending = False).head(10).reset_index()\n",
    "\n",
    "nba_top_ten['Rounded'] = nba_top_ten['Real_value'].astype(int)\n",
    "\n",
    "nba_top_ten"
   ]
  },
  {
   "cell_type": "code",
   "execution_count": 30,
   "metadata": {},
   "outputs": [
    {
     "data": {
      "text/html": [
       "\n",
       "\n",
       "\n",
       "\n",
       "\n",
       "\n",
       "  <div class=\"bk-root\" id=\"77f82015-cca9-4764-8d8c-6bf5805bbab7\"></div>\n"
      ]
     },
     "metadata": {},
     "output_type": "display_data"
    },
    {
     "data": {
      "application/javascript": [
       "(function(root) {\n",
       "  function embed_document(root) {\n",
       "    \n",
       "  var docs_json = {\"8a1fb139-849e-49e0-87d1-7e1933d5e796\":{\"roots\":{\"references\":[{\"attributes\":{\"above\":[{\"id\":\"4141\",\"type\":\"Title\"}],\"background_fill_color\":{\"value\":\"white\"},\"below\":[{\"id\":\"4125\",\"type\":\"LinearAxis\"},{\"id\":\"4140\",\"type\":\"Label\"}],\"border_fill_color\":{\"value\":\"white\"},\"left\":[{\"id\":\"4130\",\"type\":\"CategoricalAxis\"}],\"min_border_bottom\":60,\"min_border_left\":60,\"min_border_right\":60,\"min_border_top\":40,\"outline_line_color\":{\"value\":\"white\"},\"plot_height\":750,\"plot_width\":750,\"renderers\":[{\"id\":\"4125\",\"type\":\"LinearAxis\"},{\"id\":\"4129\",\"type\":\"Grid\"},{\"id\":\"4130\",\"type\":\"CategoricalAxis\"},{\"id\":\"4133\",\"type\":\"Grid\"},{\"id\":\"4140\",\"type\":\"Label\"},{\"id\":\"4141\",\"type\":\"Title\"},{\"id\":\"4151\",\"type\":\"GlyphRenderer\"},{\"id\":\"4158\",\"type\":\"GlyphRenderer\"},{\"id\":\"4160\",\"type\":\"Span\"},{\"id\":\"4161\",\"type\":\"Span\"},{\"id\":\"4162\",\"type\":\"Span\"}],\"title\":{\"id\":\"4137\",\"type\":\"Title\"},\"toolbar\":{\"id\":\"4135\",\"type\":\"Toolbar\"},\"x_range\":{\"id\":\"4117\",\"type\":\"DataRange1d\"},\"x_scale\":{\"id\":\"4121\",\"type\":\"LinearScale\"},\"y_range\":{\"id\":\"4119\",\"type\":\"FactorRange\"},\"y_scale\":{\"id\":\"4123\",\"type\":\"CategoricalScale\"}},\"id\":\"4116\",\"subtype\":\"Figure\",\"type\":\"Plot\"},{\"attributes\":{\"level\":\"overlay\",\"name\":\"subtitle\",\"plot\":{\"id\":\"4116\",\"subtype\":\"Figure\",\"type\":\"Plot\"},\"text\":\"\",\"text_align\":\"right\",\"text_color\":{\"value\":\"#898989\"},\"text_font_size\":{\"value\":\"10px\"},\"x\":864.0,\"x_units\":\"screen\",\"y\":0,\"y_units\":\"screen\"},\"id\":\"4140\",\"type\":\"Label\"},{\"attributes\":{\"text\":{\"field\":\"Rounded\"},\"text_baseline\":\"middle\",\"text_color\":{\"value\":\"white\"},\"text_font_size\":{\"value\":\"13px\"},\"x\":{\"field\":\"Real_value\"},\"x_offset\":{\"value\":-20},\"y\":{\"field\":\"factors\"},\"y_offset\":{\"value\":1}},\"id\":\"4156\",\"type\":\"Text\"},{\"attributes\":{},\"id\":\"4315\",\"type\":\"CategoricalTickFormatter\"},{\"attributes\":{\"text\":{\"field\":\"Rounded\"},\"text_alpha\":{\"value\":0.1},\"text_baseline\":\"middle\",\"text_color\":{\"value\":\"black\"},\"text_font_size\":{\"value\":\"13px\"},\"x\":{\"field\":\"Real_value\"},\"x_offset\":{\"value\":-20},\"y\":{\"field\":\"factors\"},\"y_offset\":{\"value\":1}},\"id\":\"4157\",\"type\":\"Text\"},{\"attributes\":{\"plot\":{\"id\":\"4116\",\"subtype\":\"Figure\",\"type\":\"Plot\"},\"text\":\"NBA Player of the Week: Top 10\",\"text_color\":{\"value\":\"#666666\"},\"text_font_size\":{\"value\":\"12pt\"}},\"id\":\"4141\",\"type\":\"Title\"},{\"attributes\":{\"data_source\":{\"id\":\"4154\",\"type\":\"ColumnDataSource\"},\"glyph\":{\"id\":\"4156\",\"type\":\"Text\"},\"hover_glyph\":null,\"muted_glyph\":null,\"nonselection_glyph\":{\"id\":\"4157\",\"type\":\"Text\"},\"selection_glyph\":null,\"view\":{\"id\":\"4159\",\"type\":\"CDSView\"}},\"id\":\"4158\",\"type\":\"GlyphRenderer\"},{\"attributes\":{\"plot\":null,\"text\":\"\",\"text_color\":{\"value\":\"#333333\"},\"text_font_size\":{\"value\":\"18pt\"}},\"id\":\"4137\",\"type\":\"Title\"},{\"attributes\":{\"source\":{\"id\":\"4154\",\"type\":\"ColumnDataSource\"}},\"id\":\"4159\",\"type\":\"CDSView\"},{\"attributes\":{\"fill_alpha\":{\"value\":0.1},\"fill_color\":{\"value\":\"#1f77b4\"},\"height\":{\"value\":0.9},\"line_alpha\":{\"value\":0.1},\"line_color\":{\"value\":\"#1f77b4\"},\"right\":{\"field\":\"Real_value\"},\"y\":{\"field\":\"factors\"}},\"id\":\"4150\",\"type\":\"HBar\"},{\"attributes\":{\"format\":\"0,0.[00]\"},\"id\":\"4146\",\"type\":\"NumeralTickFormatter\"},{\"attributes\":{\"callback\":null,\"end\":null,\"start\":0},\"id\":\"4117\",\"type\":\"DataRange1d\"},{\"attributes\":{\"callback\":null,\"factor_padding\":0.25,\"factors\":[\"Kevin Garnett\",\"Kevin Durant\",\"Allen Iverson\",\"Tim Duncan\",\"David Robinson\",\"Shaquille O'Neal\",\"Kobe Bryant\",\"Karl Malone\",\"Michael Jordan\",\"LeBron James\"]},\"id\":\"4119\",\"type\":\"FactorRange\"},{\"attributes\":{\"fill_color\":{\"field\":\"factors\",\"transform\":{\"id\":\"4145\",\"type\":\"CategoricalColorMapper\"}},\"height\":{\"value\":0.9},\"line_color\":{\"value\":\"white\"},\"right\":{\"field\":\"Real_value\"},\"y\":{\"field\":\"factors\"}},\"id\":\"4149\",\"type\":\"HBar\"},{\"attributes\":{},\"id\":\"4121\",\"type\":\"LinearScale\"},{\"attributes\":{\"callback\":null,\"data\":{\"Real_value\":{\"__ndarray__\":\"AAAAAAAAKUAAAAAAAAAqQAAAAAAAACtAAAAAAAAALEAAAAAAAAAuQAAAAAAAADBAAAAAAACAMUAAAAAAAIA2QAAAAAAAADhAAAAAAACAPkA=\",\"dtype\":\"float64\",\"shape\":[10]},\"Rounded\":{\"__ndarray__\":\"DAAAAA0AAAANAAAADgAAAA8AAAAQAAAAEQAAABYAAAAYAAAAHgAAAA==\",\"dtype\":\"int32\",\"shape\":[10]},\"factors\":[\"Kevin Garnett\",\"Kevin Durant\",\"Allen Iverson\",\"Tim Duncan\",\"David Robinson\",\"Shaquille O'Neal\",\"Kobe Bryant\",\"Karl Malone\",\"Michael Jordan\",\"LeBron James\"],\"index\":[0,1,2,3,4,5,6,7,8,9]},\"name\":\"Series:\",\"selected\":{\"id\":\"4319\",\"type\":\"Selection\"},\"selection_policy\":{\"id\":\"4318\",\"type\":\"UnionRenderers\"}},\"id\":\"4154\",\"type\":\"ColumnDataSource\"},{\"attributes\":{\"dimension\":\"height\",\"line_color\":{\"value\":\"#ffffff\"},\"line_dash\":[6],\"location\":30,\"plot\":{\"id\":\"4116\",\"subtype\":\"Figure\",\"type\":\"Plot\"}},\"id\":\"4162\",\"type\":\"Span\"},{\"attributes\":{},\"id\":\"4123\",\"type\":\"CategoricalScale\"},{\"attributes\":{},\"id\":\"4318\",\"type\":\"UnionRenderers\"},{\"attributes\":{\"callback\":null,\"data\":{\"Real_value\":{\"__ndarray__\":\"AAAAAAAAKUAAAAAAAAAqQAAAAAAAACtAAAAAAAAALEAAAAAAAAAuQAAAAAAAADBAAAAAAACAMUAAAAAAAIA2QAAAAAAAADhAAAAAAACAPkA=\",\"dtype\":\"float64\",\"shape\":[10]},\"factors\":[\"Kevin Garnett\",\"Kevin Durant\",\"Allen Iverson\",\"Tim Duncan\",\"David Robinson\",\"Shaquille O'Neal\",\"Kobe Bryant\",\"Karl Malone\",\"Michael Jordan\",\"LeBron James\"],\"index\":[0,1,2,3,4,5,6,7,8,9]},\"name\":\"Series:\",\"selected\":{\"id\":\"4317\",\"type\":\"Selection\"},\"selection_policy\":{\"id\":\"4316\",\"type\":\"UnionRenderers\"}},\"id\":\"4144\",\"type\":\"ColumnDataSource\"},{\"attributes\":{\"axis_label_text_color\":{\"value\":\"#666666\"},\"axis_label_text_font_size\":{\"value\":\"11pt\"},\"axis_label_text_font_style\":\"bold\",\"axis_line_color\":{\"value\":\"#C0C0C0\"},\"fixed_location\":25,\"formatter\":{\"id\":\"4146\",\"type\":\"NumeralTickFormatter\"},\"major_label_text_color\":{\"value\":\"#898989\"},\"major_label_text_font_size\":{\"value\":\"10pt\"},\"major_tick_in\":0,\"major_tick_line_color\":{\"value\":\"#C0C0C0\"},\"major_tick_out\":4,\"minor_tick_line_color\":{\"value\":\"#C0C0C0\"},\"minor_tick_out\":1,\"plot\":{\"id\":\"4116\",\"subtype\":\"Figure\",\"type\":\"Plot\"},\"ticker\":{\"id\":\"4126\",\"type\":\"BasicTicker\"},\"visible\":false},\"id\":\"4125\",\"type\":\"LinearAxis\"},{\"attributes\":{},\"id\":\"4126\",\"type\":\"BasicTicker\"},{\"attributes\":{},\"id\":\"4319\",\"type\":\"Selection\"},{\"attributes\":{\"dimension\":\"height\",\"line_color\":{\"value\":\"#ffffff\"},\"line_dash\":[6],\"location\":20,\"plot\":{\"id\":\"4116\",\"subtype\":\"Figure\",\"type\":\"Plot\"}},\"id\":\"4161\",\"type\":\"Span\"},{\"attributes\":{\"grid_line_color\":{\"value\":null},\"plot\":{\"id\":\"4116\",\"subtype\":\"Figure\",\"type\":\"Plot\"},\"ticker\":{\"id\":\"4126\",\"type\":\"BasicTicker\"}},\"id\":\"4129\",\"type\":\"Grid\"},{\"attributes\":{\"source\":{\"id\":\"4144\",\"type\":\"ColumnDataSource\"}},\"id\":\"4152\",\"type\":\"CDSView\"},{\"attributes\":{\"axis_label_text_color\":{\"value\":\"#666666\"},\"axis_label_text_font_size\":{\"value\":\"11pt\"},\"axis_label_text_font_style\":\"bold\",\"axis_line_color\":{\"value\":\"#C0C0C0\"},\"formatter\":{\"id\":\"4315\",\"type\":\"CategoricalTickFormatter\"},\"group_text_font_size\":{\"value\":\"11pt\"},\"major_label_text_color\":{\"value\":\"#898989\"},\"major_label_text_font_size\":{\"value\":\"10pt\"},\"major_tick_in\":0,\"major_tick_line_color\":{\"value\":\"#C0C0C0\"},\"major_tick_out\":4,\"minor_tick_line_color\":{\"value\":\"#C0C0C0\"},\"minor_tick_out\":1,\"plot\":{\"id\":\"4116\",\"subtype\":\"Figure\",\"type\":\"Plot\"},\"separator_line_alpha\":{\"value\":0},\"subgroup_text_font_size\":{\"value\":\"11pt\"},\"ticker\":{\"id\":\"4131\",\"type\":\"CategoricalTicker\"}},\"id\":\"4130\",\"type\":\"CategoricalAxis\"},{\"attributes\":{\"data_source\":{\"id\":\"4144\",\"type\":\"ColumnDataSource\"},\"glyph\":{\"id\":\"4149\",\"type\":\"HBar\"},\"hover_glyph\":null,\"muted_glyph\":null,\"nonselection_glyph\":{\"id\":\"4150\",\"type\":\"HBar\"},\"selection_glyph\":null,\"view\":{\"id\":\"4152\",\"type\":\"CDSView\"}},\"id\":\"4151\",\"type\":\"GlyphRenderer\"},{\"attributes\":{},\"id\":\"4317\",\"type\":\"Selection\"},{\"attributes\":{},\"id\":\"4131\",\"type\":\"CategoricalTicker\"},{\"attributes\":{\"dimension\":\"height\",\"line_color\":{\"value\":\"#ffffff\"},\"line_dash\":[6],\"location\":10,\"plot\":{\"id\":\"4116\",\"subtype\":\"Figure\",\"type\":\"Plot\"}},\"id\":\"4160\",\"type\":\"Span\"},{\"attributes\":{\"dimension\":1,\"grid_line_color\":{\"value\":null},\"plot\":{\"id\":\"4116\",\"subtype\":\"Figure\",\"type\":\"Plot\"},\"ticker\":{\"id\":\"4131\",\"type\":\"CategoricalTicker\"}},\"id\":\"4133\",\"type\":\"Grid\"},{\"attributes\":{\"end\":1,\"factors\":[\"Allen Iverson\",\"David Robinson\",\"Karl Malone\",\"Kevin Durant\",\"Kevin Garnett\",\"Kobe Bryant\",\"LeBron James\",\"Michael Jordan\",\"Shaquille O'Neal\",\"Tim Duncan\"],\"palette\":[\"#1f77b4\",\"#ff7f0e\",\"#2ca02c\",\"#d62728\",\"#9467bd\",\"#8c564b\",\"#e377c2\",\"#7f7f7f\",\"#bcbd22\",\"#17becf\"]},\"id\":\"4145\",\"type\":\"CategoricalColorMapper\"},{\"attributes\":{\"active_drag\":null,\"active_inspect\":\"auto\",\"active_multi\":null,\"active_scroll\":\"auto\",\"active_tap\":\"auto\",\"logo\":null,\"tools\":[{\"id\":\"4134\",\"type\":\"SaveTool\"}]},\"id\":\"4135\",\"type\":\"Toolbar\"},{\"attributes\":{},\"id\":\"4316\",\"type\":\"UnionRenderers\"},{\"attributes\":{},\"id\":\"4134\",\"type\":\"SaveTool\"}],\"root_ids\":[\"4116\"]},\"title\":\"Bokeh Application\",\"version\":\"1.0.1\"}};\n",
       "  var render_items = [{\"docid\":\"8a1fb139-849e-49e0-87d1-7e1933d5e796\",\"roots\":{\"4116\":\"77f82015-cca9-4764-8d8c-6bf5805bbab7\"}}];\n",
       "  root.Bokeh.embed.embed_items_notebook(docs_json, render_items);\n",
       "\n",
       "  }\n",
       "  if (root.Bokeh !== undefined) {\n",
       "    embed_document(root);\n",
       "  } else {\n",
       "    var attempts = 0;\n",
       "    var timer = setInterval(function(root) {\n",
       "      if (root.Bokeh !== undefined) {\n",
       "        embed_document(root);\n",
       "        clearInterval(timer);\n",
       "      }\n",
       "      attempts++;\n",
       "      if (attempts > 100) {\n",
       "        console.log(\"Bokeh: ERROR: Unable to run BokehJS code because BokehJS library is missing\");\n",
       "        clearInterval(timer);\n",
       "      }\n",
       "    }, 10, root)\n",
       "  }\n",
       "})(window);"
      ],
      "application/vnd.bokehjs_exec.v0+json": ""
     },
     "metadata": {
      "application/vnd.bokehjs_exec.v0+json": {
       "id": "4116"
      }
     },
     "output_type": "display_data"
    }
   ],
   "source": [
    "ch = chartify.Chart(blank_labels = True, y_axis_type = 'categorical', \n",
    "                   layout = 'slide_100%')\n",
    "\n",
    "ch.plot.bar(nba_top_ten, categorical_columns = 'Player',\n",
    "           numeric_column = 'Real_value', color_column = 'Player', \n",
    "           categorical_order_ascending = True)\n",
    "\n",
    "ch.plot.text(nba_top_ten, categorical_columns='Player', \n",
    "            numeric_column = 'Real_value', text_column = 'Rounded', \n",
    "            categorical_order_ascending = True, font_size = '13px', \n",
    "            x_offset = -30, y_offset = 1)\n",
    "\n",
    "ch.figure.renderers[-1].glyph.text_color = 'white'\n",
    "ch.figure.plot_width = 750\n",
    "ch.figure.plot_height = 750\n",
    "ch.set_subtitle(\"NBA Player of the Week: Top 10\")\n",
    "ch.figure.xaxis.fixed_location = 25\n",
    "ch.figure.xaxis.visible = False\n",
    "\n",
    "# Dash marks on 10, 20, 30 milestones\n",
    "for milestones in [10, 20, 30]:\n",
    "    ch.callout.line(location = milestones, orientation = 'height', \n",
    "                   line_color = 'white', line_dash = 'dashed',\n",
    "                   line_width = 1)\n",
    "ch.show()"
   ]
  },
  {
   "cell_type": "markdown",
   "metadata": {
    "collapsed": true
   },
   "source": [
    "## NBA Player of the Week (Player & Position)"
   ]
  },
  {
   "cell_type": "code",
   "execution_count": 23,
   "metadata": {},
   "outputs": [
    {
     "data": {
      "text/html": [
       "\n",
       "\n",
       "\n",
       "\n",
       "\n",
       "\n",
       "  <div class=\"bk-root\" id=\"3ed5d44e-0b6a-4205-9fb2-f1940b6648de\"></div>\n"
      ]
     },
     "metadata": {},
     "output_type": "display_data"
    },
    {
     "data": {
      "application/javascript": [
       "(function(root) {\n",
       "  function embed_document(root) {\n",
       "    \n",
       "  var docs_json = {\"ac84faba-e558-47c4-96af-b8428aee7db3\":{\"roots\":{\"references\":[{\"attributes\":{\"below\":[{\"id\":\"3683\",\"type\":\"LinearAxis\"}],\"left\":[{\"id\":\"3688\",\"type\":\"CategoricalAxis\"}],\"plot_height\":750,\"plot_width\":750,\"renderers\":[{\"id\":\"3683\",\"type\":\"LinearAxis\"},{\"id\":\"3687\",\"type\":\"Grid\"},{\"id\":\"3688\",\"type\":\"CategoricalAxis\"},{\"id\":\"3691\",\"type\":\"Grid\"},{\"id\":\"3698\",\"type\":\"GlyphRenderer\"}],\"title\":{\"id\":\"3700\",\"type\":\"Title\"},\"toolbar\":{\"id\":\"3692\",\"type\":\"Toolbar\"},\"x_range\":{\"id\":\"3675\",\"type\":\"DataRange1d\"},\"x_scale\":{\"id\":\"3679\",\"type\":\"LinearScale\"},\"y_range\":{\"id\":\"3677\",\"type\":\"FactorRange\"},\"y_scale\":{\"id\":\"3681\",\"type\":\"CategoricalScale\"}},\"id\":\"3674\",\"subtype\":\"Figure\",\"type\":\"Plot\"},{\"attributes\":{\"active_drag\":\"auto\",\"active_inspect\":\"auto\",\"active_multi\":null,\"active_scroll\":\"auto\",\"active_tap\":\"auto\",\"tools\":[{\"id\":\"3673\",\"type\":\"HoverTool\"}]},\"id\":\"3692\",\"type\":\"Toolbar\"},{\"attributes\":{\"factors\":[\"G\",\"SF\",\"F\",\"FC\",\"C\",\"SG\",\"PG\",\"PF\",\"F-C\",\"GF\",\"G-F\"],\"palette\":[\"#1f77b4\",\"#aec7e8\",\"#ff7f0e\",\"#ffbb78\",\"#2ca02c\",\"#98df8a\",\"#d62728\",\"#ff9896\",\"#9467bd\",\"#c5b0d5\",\"#8c564b\"]},\"id\":\"3672\",\"type\":\"CategoricalColorMapper\"},{\"attributes\":{\"callback\":null,\"factors\":[\"G\",\"SF\",\"F\",\"FC\",\"C\",\"SG\",\"PG\",\"PF\",\"F-C\",\"GF\",\"G-F\"]},\"id\":\"3677\",\"type\":\"FactorRange\"},{\"attributes\":{\"fill_alpha\":{\"value\":0.7},\"fill_color\":{\"field\":\"Position\",\"transform\":{\"id\":\"3672\",\"type\":\"CategoricalColorMapper\"}},\"line_alpha\":{\"value\":0.7},\"line_color\":{\"field\":\"Position\",\"transform\":{\"id\":\"3672\",\"type\":\"CategoricalColorMapper\"}},\"size\":{\"units\":\"screen\",\"value\":10},\"x\":{\"field\":\"Real_value\"},\"y\":{\"field\":\"Position\",\"transform\":{\"id\":\"3694\",\"type\":\"Jitter\"}}},\"id\":\"3696\",\"type\":\"Scatter\"},{\"attributes\":{\"plot\":null,\"text\":\"NBA Player of the Week (By Player & Position)\",\"text_font_size\":{\"value\":\"16px\"}},\"id\":\"3700\",\"type\":\"Title\"},{\"attributes\":{\"fill_alpha\":{\"value\":0.1},\"fill_color\":{\"value\":\"#1f77b4\"},\"line_alpha\":{\"value\":0.1},\"line_color\":{\"value\":\"#1f77b4\"},\"size\":{\"units\":\"screen\",\"value\":10},\"x\":{\"field\":\"Real_value\"},\"y\":{\"field\":\"Position\",\"transform\":{\"id\":\"3694\",\"type\":\"Jitter\"}}},\"id\":\"3697\",\"type\":\"Scatter\"},{\"attributes\":{\"data_source\":{\"id\":\"3671\",\"type\":\"ColumnDataSource\"},\"glyph\":{\"id\":\"3696\",\"type\":\"Scatter\"},\"hover_glyph\":null,\"muted_glyph\":null,\"nonselection_glyph\":{\"id\":\"3697\",\"type\":\"Scatter\"},\"selection_glyph\":null,\"view\":{\"id\":\"3699\",\"type\":\"CDSView\"}},\"id\":\"3698\",\"type\":\"GlyphRenderer\"},{\"attributes\":{\"plot\":{\"id\":\"3674\",\"subtype\":\"Figure\",\"type\":\"Plot\"},\"ticker\":{\"id\":\"3684\",\"type\":\"BasicTicker\"}},\"id\":\"3687\",\"type\":\"Grid\"},{\"attributes\":{},\"id\":\"3689\",\"type\":\"CategoricalTicker\"},{\"attributes\":{\"callback\":null,\"data\":{\"Player\":[\"Aaron McKie\",\"Adrian Dantley\",\"Al Harrington\",\"Al Horford\",\"Al Jefferson\",\"Alex English\",\"Allan Houston\",\"Allen Iverson\",\"Alonzo Mourning\",\"Alvin Robertson\",\"Amar'e Stoudemire\",\"Andre Drummond\",\"Andre Miller\",\"Andrei Kirilenko\",\"Andrew Bogut\",\"Andrew Bynum\",\"Antawn Jamison\",\"Anthony Davis\",\"Antoine Walker\",\"Antonio McDyess\",\"Armen Gilliam\",\"Arvydas Sabonis\",\"Baron Davis\",\"Ben Gordon\",\"Ben Simmons\",\"Ben Wallace\",\"Bernard King\",\"Blake Griffin\",\"Bobby Hansen\",\"Brad Daugherty\",\"Brad Miller\",\"Bradley Beal\",\"Brandon Jennings\",\"Brandon Roy\",\"Brook Lopez\",\"Bruce Bowen\",\"Buck Williams\",\"Byron Scott\",\"C.J. McCollum\",\"Calvin Natt\",\"Carlos Boozer\",\"Carmelo Anthony\",\"Caron Butler\",\"Cedric Ceballos\",\"Charles Barkley\",\"Chauncey Billups\",\"Chris Bosh\",\"Chris Gatling\",\"Chris Kaman\",\"Chris Mullin\",\"Chris Paul\",\"Chris Webber\",\"Chris Wilcox\",\"Chuck Person\",\"Cliff Robinson\",\"Clyde Drexler\",\"Cuttino Mobley\",\"Dale Ellis\",\"Damian Lillard\",\"Danny Granger\",\"Danny Manning\",\"Darrell Armstrong\",\"Darrell Griffith\",\"David Lee\",\"David Robinson\",\"David West\",\"DeMar DeRozan\",\"DeMarcus Cousins\",\"Dennis Rodman\",\"Dennis Scott\",\"Derek Anderson\",\"Derek Smith\",\"Deron Williams\",\"Derrick Rose\",\"Devin Harris\",\"Dikembe Mutombo\",\"Dion Waiters\",\"Dirk Nowitzki\",\"Dominique Wilkins\",\"Draymond Green\",\"Drazen Petrovic\",\"Drew Gooden\",\"Dwight Howard\",\"Dwyane Wade\",\"Eddie Jones\",\"Elliot Perry\",\"Elton Brand\",\"Ersan Ilyasova\",\"Fat Lever\",\"Gary Payton\",\"George Hill\",\"Gerald Wallace\",\"Gerald Wilkins\",\"Giannis Antetokounmpo\",\"Gilbert Arenas\",\"Glen Rice\",\"Glenn Robinson\",\"Goran Dragic\",\"Gordon Hayward\",\"Grant Hill\",\"Greivis Vasquez\",\"Hakeem Olajuwon\",\"Harold Pressley\",\"Hassan Whiteside\",\"Hedo Turkoglu\",\"Herb Williams\",\"Hot Rod Williams\",\"Isaiah Thomas\",\"Isiah Thomas\",\"J.J. Barea\",\"J.R. Smith\",\"Jack Sikma\",\"Jalen Rose\",\"Jamaal Magloire\",\"Jamal Crawford\",\"Jamal Mashburn\",\"Jameer Nelson\",\"James Harden\",\"Jared Sullinger\",\"Jason Kidd\",\"Jason Richardson\",\"Jason Terry\",\"Jayson Williams\",\"Jeff Malone\",\"Jeff Ruland\",\"Jeff Teague\",\"Jeremy Lin\",\"Jermaine O'Neal\",\"Jerry Stackhouse\",\"Jimmy Butler\",\"Joe Dumars\",\"Joe Johnson\",\"Joel Embiid\",\"John Stockton\",\"John Wall\",\"Jordan Crawford\",\"Josh Howard\",\"Josh Smith\",\"Julius Erving\",\"Juwan Howard\",\"Kareem Abdul-Jabbar\",\"Karl Malone\",\"Karl-Anthony Towns\",\"Kawhi Leonard\",\"Kemba Walker\",\"Kenneth Faried\",\"Kenny Anderson\",\"Kenny Smith\",\"Kenyon Martin\",\"Kevin Durant\",\"Kevin Garnett\",\"Kevin Johnson\",\"Kevin Love\",\"Kevin Martin\",\"Kevin Willis\",\"Khris Middleton\",\"Klay Thompson\",\"Kobe Bryant\",\"Kristaps Porzingis\",\"Kurt Thomas\",\"Kyle Lowry\",\"Kyrie Irving\",\"LaMarcus Aldridge\",\"Lamar Odom\",\"Larry Bird\",\"Larry Hughes\",\"Larry Johnson\",\"Larry Nance\",\"Larry Smith\",\"LeBron James\",\"Lionel Simmons\",\"Lou Williams\",\"Loy Vaught\",\"Lucious Harris\",\"Magic Johnson\",\"Manu Ginobili\",\"Marc Gasol\",\"Marcin Gortat\",\"Marcus Camby\",\"Mark Aguirre\",\"Mark Jackson\",\"Markieff Morris\",\"Mehmet Okur\",\"Metta World Peace\",\"Michael Adams\",\"Michael Carter-Williams\",\"Michael Finley\",\"Michael Jordan\",\"Michael Redd\",\"Micheal Ray Richardson\",\"Mike Bibby\",\"Mike James\",\"Mitch Richmond\",\"Mo Williams\",\"Monta Ellis\",\"Mookie Blaylock\",\"Moses Malone\",\"Nate Robinson\",\"Nick Anderson\",\"Nicolas Batum\",\"Nikola Jokic\",\"Nikola Pekovic\",\"Nikola Vucevic\",\"Oliver Miller\",\"Orlando Woolridge\",\"Otis Thorpe\",\"Pascal Siakam\",\"Patrick Ewing\",\"Pau Gasol\",\"Paul George\",\"Paul Millsap\",\"Paul Pierce\",\"Peja Stojakovic\",\"Penny Hardaway\",\"Pervis Ellison\",\"Quentin Richardson\",\"Rajon Rondo\",\"Rashard Lewis\",\"Rasheed Wallace\",\"Ray Allen\",\"Reggie Jackson\",\"Reggie Lewis\",\"Reggie Miller\",\"Richard Hamilton\",\"Richard Jefferson\",\"Ricky Pierce\",\"Rik Smits\",\"Robert Parish\",\"Rod Strickland\",\"Rodney Stuckey\",\"Ron Harper\",\"Rony Seikaly\",\"Roy Tarpley\",\"Rumeal Robinson\",\"Russell Westbrook\",\"Sam Cassell\",\"Scott Skiles\",\"Scottie Pippen\",\"Sean Elliott\",\"Shaquille O'Neal\",\"Shareef Abdur-Rahim\",\"Shawn Kemp\",\"Shawn Marion\",\"Sidney Moncrief\",\"Sleepy Floyd\",\"Stephen Curry\",\"Stephen Jackson\",\"Stephon Marbury\",\"Steve Francis\",\"Steve Nash\",\"Steve Smith\",\"T.J. Ford\",\"Terrell Brandon\",\"Terry Cummings\",\"Terry Mills\",\"Terry Teagle\",\"Thaddeus Young\",\"Tim Duncan\",\"Tim Hardaway\",\"Tobias Harris\",\"Tom Chambers\",\"Tom McMillen\",\"Tony Parker\",\"Tracy McGrady\",\"Ty Lawson\",\"Vern Fleming\",\"Victor Oladipo\",\"Vince Carter\",\"Vlade Divac\",\"Voshon Lenard\",\"Wesley Person\",\"World B. Free\",\"Xavier McDaniel\",\"Yao Ming\",\"Zach Randolph\",\"Zydrunas Ilgauskas\"],\"Position\":[\"G\",\"SF\",\"F\",\"FC\",\"FC\",\"SF\",\"G\",\"G\",\"C\",\"SG\",\"FC\",\"C\",\"PG\",\"PF\",\"C\",\"C\",\"F\",\"PF\",\"F\",\"F\",\"PF\",\"C\",\"G\",\"SG\",\"PF\",\"FC\",\"SF\",\"PF\",\"SG\",\"C\",\"C\",\"SG\",\"G\",\"G\",\"C\",\"F\",\"PF\",\"SG\",\"G\",\"F\",\"PF\",\"F\",\"SF\",\"SF\",\"PF\",\"G\",\"PF\",\"PF\",\"C\",\"SF\",\"PG\",\"F-C\",\"FC\",\"SF\",\"PF\",\"SG\",\"G\",\"GF\",\"G\",\"GF\",\"F\",\"PG\",\"SG\",\"FC\",\"C\",\"PF\",\"GF\",\"C\",\"PF\",\"SF\",\"G\",\"SG\",\"PG\",\"PG\",\"G\",\"C\",\"SG\",\"PF\",\"SF\",\"F\",\"SG\",\"FC\",\"C\",\"SG\",\"G-F\",\"PG\",\"PF\",\"F\",\"PG\",\"G\",\"G\",\"F\",\"SG\",\"F\",\"G\",\"SF\",\"SF\",\"G\",\"GF\",\"SF\",\"G\",\"C\",\"GF\",\"C\",\"F\",\"C\",\"FC\",\"PG\",\"PG\",\"G\",\"SG\",\"C\",\"G\",\"C\",\"SG\",\"SF\",\"G\",\"SG\",\"C\",\"PG\",\"GF\",\"G\",\"FC\",\"SG\",\"C\",\"PG\",\"G\",\"FC\",\"SF\",\"GF\",\"SG\",\"SG\",\"C\",\"PG\",\"PG\",\"G\",\"GF\",\"PF\",\"SF\",\"PF\",\"C\",\"PF\",\"C\",\"F\",\"G\",\"F\",\"PG\",\"PG\",\"F\",\"SF\",\"PF\",\"PG\",\"FC\",\"SG\",\"C\",\"SF\",\"G\",\"SG\",\"FC\",\"FC\",\"PG\",\"G\",\"FC\",\"PF\",\"SF\",\"G\",\"F\",\"PF\",\"PF\",\"F\",\"SF\",\"G\",\"PF\",\"SG\",\"PG\",\"SG\",\"C\",\"FC\",\"C\",\"SF\",\"PG\",\"PF\",\"FC\",\"SF\",\"PG\",\"PG\",\"G-F\",\"SG\",\"G\",\"PG\",\"G\",\"G\",\"SG\",\"G\",\"G\",\"PG\",\"C\",\"G\",\"GF\",\"F\",\"C\",\"PF\",\"PF\",\"C\",\"PF\",\"PF\",\"F\",\"C\",\"FC\",\"GF\",\"FC\",\"SF\",\"F\",\"PG\",\"C\",\"GF\",\"PG\",\"F\",\"FC\",\"SG\",\"G\",\"SF\",\"SG\",\"SG\",\"SF\",\"SG\",\"C\",\"C\",\"PG\",\"G\",\"SG\",\"C\",\"PF\",\"PG\",\"G\",\"G\",\"PG\",\"SF\",\"SF\",\"C\",\"F\",\"C\",\"F\",\"SG\",\"PG\",\"G\",\"GF\",\"G\",\"G\",\"G\",\"SG\",\"PG\",\"PG\",\"PF\",\"PF\",\"SG\",\"F\",\"FC\",\"PG\",\"F\",\"PF\",\"PF\",\"G\",\"GF\",\"PG\",\"G\",\"G\",\"SF\",\"C\",\"SG\",\"SG\",\"G\",\"PF\",\"C\",\"PF\",\"C\"],\"Real_value\":{\"__ndarray__\":\"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\",\"dtype\":\"float64\",\"shape\":[276]},\"index\":[0,1,2,3,4,5,6,7,8,9,10,11,12,13,14,15,16,17,18,19,20,21,22,23,24,25,26,27,28,29,30,31,32,33,34,35,36,37,38,39,40,41,42,43,44,45,46,47,48,49,50,51,52,53,54,55,56,57,58,59,60,61,62,63,64,65,66,67,68,69,70,71,72,73,74,75,76,77,78,79,80,81,82,83,84,85,86,87,88,89,90,91,92,93,94,95,96,97,98,99,100,101,102,103,104,105,106,107,108,109,110,111,112,113,114,115,116,117,118,119,120,121,122,123,124,125,126,127,128,129,130,131,132,133,134,135,136,137,138,139,140,141,142,143,144,145,146,147,148,149,150,151,152,153,154,155,156,157,158,159,160,161,162,163,164,165,166,167,168,169,170,171,172,173,174,175,176,177,178,179,180,181,182,183,184,185,186,187,188,189,190,191,192,193,194,195,196,197,198,199,200,201,202,203,204,205,206,207,208,209,210,211,212,213,214,215,216,217,218,219,220,221,222,223,224,225,226,227,228,229,230,231,232,233,234,235,236,237,238,239,240,241,242,243,244,245,246,247,248,249,250,251,252,253,254,255,256,257,258,259,260,261,262,263,264,265,266,267,268,269,270,271,272,273,274,275]},\"selected\":{\"id\":\"3843\",\"type\":\"Selection\"},\"selection_policy\":{\"id\":\"3842\",\"type\":\"UnionRenderers\"}},\"id\":\"3671\",\"type\":\"ColumnDataSource\"},{\"attributes\":{\"source\":{\"id\":\"3671\",\"type\":\"ColumnDataSource\"}},\"id\":\"3699\",\"type\":\"CDSView\"},{\"attributes\":{\"axis_label\":\"Position\",\"formatter\":{\"id\":\"3841\",\"type\":\"CategoricalTickFormatter\"},\"plot\":{\"id\":\"3674\",\"subtype\":\"Figure\",\"type\":\"Plot\"},\"ticker\":{\"id\":\"3689\",\"type\":\"CategoricalTicker\"}},\"id\":\"3688\",\"type\":\"CategoricalAxis\"},{\"attributes\":{},\"id\":\"3839\",\"type\":\"BasicTickFormatter\"},{\"attributes\":{},\"id\":\"3841\",\"type\":\"CategoricalTickFormatter\"},{\"attributes\":{\"range\":{\"id\":\"3677\",\"type\":\"FactorRange\"},\"width\":0.5},\"id\":\"3694\",\"type\":\"Jitter\"},{\"attributes\":{},\"id\":\"3842\",\"type\":\"UnionRenderers\"},{\"attributes\":{\"callback\":null,\"renderers\":\"auto\",\"tooltips\":[[\"Player\",\"@Player\"]]},\"id\":\"3673\",\"type\":\"HoverTool\"},{\"attributes\":{},\"id\":\"3843\",\"type\":\"Selection\"},{\"attributes\":{\"callback\":null},\"id\":\"3675\",\"type\":\"DataRange1d\"},{\"attributes\":{\"axis_label\":\"Player of the Week (# of Times)\",\"formatter\":{\"id\":\"3839\",\"type\":\"BasicTickFormatter\"},\"plot\":{\"id\":\"3674\",\"subtype\":\"Figure\",\"type\":\"Plot\"},\"ticker\":{\"id\":\"3684\",\"type\":\"BasicTicker\"}},\"id\":\"3683\",\"type\":\"LinearAxis\"},{\"attributes\":{},\"id\":\"3684\",\"type\":\"BasicTicker\"},{\"attributes\":{},\"id\":\"3679\",\"type\":\"LinearScale\"},{\"attributes\":{\"dimension\":1,\"grid_line_color\":{\"value\":null},\"plot\":{\"id\":\"3674\",\"subtype\":\"Figure\",\"type\":\"Plot\"},\"ticker\":{\"id\":\"3689\",\"type\":\"CategoricalTicker\"}},\"id\":\"3691\",\"type\":\"Grid\"},{\"attributes\":{},\"id\":\"3681\",\"type\":\"CategoricalScale\"}],\"root_ids\":[\"3674\"]},\"title\":\"Bokeh Application\",\"version\":\"1.0.1\"}};\n",
       "  var render_items = [{\"docid\":\"ac84faba-e558-47c4-96af-b8428aee7db3\",\"roots\":{\"3674\":\"3ed5d44e-0b6a-4205-9fb2-f1940b6648de\"}}];\n",
       "  root.Bokeh.embed.embed_items_notebook(docs_json, render_items);\n",
       "\n",
       "  }\n",
       "  if (root.Bokeh !== undefined) {\n",
       "    embed_document(root);\n",
       "  } else {\n",
       "    var attempts = 0;\n",
       "    var timer = setInterval(function(root) {\n",
       "      if (root.Bokeh !== undefined) {\n",
       "        embed_document(root);\n",
       "        clearInterval(timer);\n",
       "      }\n",
       "      attempts++;\n",
       "      if (attempts > 100) {\n",
       "        console.log(\"Bokeh: ERROR: Unable to run BokehJS code because BokehJS library is missing\");\n",
       "        clearInterval(timer);\n",
       "      }\n",
       "    }, 10, root)\n",
       "  }\n",
       "})(window);"
      ],
      "application/vnd.bokehjs_exec.v0+json": ""
     },
     "metadata": {
      "application/vnd.bokehjs_exec.v0+json": {
       "id": "3674"
      }
     },
     "output_type": "display_data"
    }
   ],
   "source": [
    "overall_pow = nba_df.groupby(['Player', 'Position'])['Real_value'].sum().reset_index()\n",
    "source = ColumnDataSource(data = overall_pow)\n",
    "\n",
    "cmapper = factor_cmap('Position', palette = Category20[11], \n",
    "                     factors = overall_pow['Position'].unique())\n",
    "hover = HoverTool(tooltips = [('Player', '@Player'),])\n",
    "\n",
    "p = figure(y_range = overall_pow['Position'].unique(), width = 750, \n",
    "          height = 750, tools = [hover])\n",
    "\n",
    "p.scatter(x='Real_value', y = jitter('Position', width = 0.5, \n",
    "                                    range = p.y_range), source = source, \n",
    "         size = 10, alpha = 0.7, fill_color = cmapper, color = cmapper)\n",
    "\n",
    "p.title.text = 'Player of the Week (By Player & Position)'\n",
    "p.title.text_font_size = '16px'\n",
    "\n",
    "p.xaxis.axis_label = 'Player of the Week (# of Times)'\n",
    "p.yaxis.axis_label = 'Position'\n",
    "p.ygrid.grid_line_color = None\n",
    "\n",
    "show(p)"
   ]
  },
  {
   "cell_type": "code",
   "execution_count": null,
   "metadata": {
    "collapsed": true
   },
   "outputs": [],
   "source": []
  }
 ],
 "metadata": {
  "kernelspec": {
   "display_name": "Python [conda env:PythonData2]",
   "language": "python",
   "name": "conda-env-PythonData2-py"
  },
  "language_info": {
   "codemirror_mode": {
    "name": "ipython",
    "version": 3
   },
   "file_extension": ".py",
   "mimetype": "text/x-python",
   "name": "python",
   "nbconvert_exporter": "python",
   "pygments_lexer": "ipython3",
   "version": "3.6.3"
  }
 },
 "nbformat": 4,
 "nbformat_minor": 2
}
